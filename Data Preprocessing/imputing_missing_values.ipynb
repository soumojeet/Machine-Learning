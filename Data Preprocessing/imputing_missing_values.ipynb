{
 "cells": [
  {
   "cell_type": "markdown",
   "id": "9ab9a215",
   "metadata": {},
   "source": [
    "# Importing Libraries"
   ]
  },
  {
   "cell_type": "code",
   "execution_count": 1,
   "id": "6064b598",
   "metadata": {},
   "outputs": [],
   "source": [
    "import pandas as pd\n",
    "import numpy as np"
   ]
  },
  {
   "cell_type": "markdown",
   "id": "0b346096",
   "metadata": {},
   "source": [
    "# Fetching The Data"
   ]
  },
  {
   "cell_type": "code",
   "execution_count": 2,
   "id": "e8d1aec0",
   "metadata": {},
   "outputs": [],
   "source": [
    "data = pd.read_csv(\"Data.csv\")"
   ]
  },
  {
   "cell_type": "code",
   "execution_count": 3,
   "id": "3178e090",
   "metadata": {},
   "outputs": [
    {
     "data": {
      "text/html": [
       "<div>\n",
       "<style scoped>\n",
       "    .dataframe tbody tr th:only-of-type {\n",
       "        vertical-align: middle;\n",
       "    }\n",
       "\n",
       "    .dataframe tbody tr th {\n",
       "        vertical-align: top;\n",
       "    }\n",
       "\n",
       "    .dataframe thead th {\n",
       "        text-align: right;\n",
       "    }\n",
       "</style>\n",
       "<table border=\"1\" class=\"dataframe\">\n",
       "  <thead>\n",
       "    <tr style=\"text-align: right;\">\n",
       "      <th></th>\n",
       "      <th>Country</th>\n",
       "      <th>Age</th>\n",
       "      <th>Salary</th>\n",
       "      <th>Purchased</th>\n",
       "    </tr>\n",
       "  </thead>\n",
       "  <tbody>\n",
       "    <tr>\n",
       "      <th>0</th>\n",
       "      <td>France</td>\n",
       "      <td>44.0</td>\n",
       "      <td>72000.0</td>\n",
       "      <td>No</td>\n",
       "    </tr>\n",
       "    <tr>\n",
       "      <th>1</th>\n",
       "      <td>Spain</td>\n",
       "      <td>27.0</td>\n",
       "      <td>48000.0</td>\n",
       "      <td>Yes</td>\n",
       "    </tr>\n",
       "    <tr>\n",
       "      <th>2</th>\n",
       "      <td>Germany</td>\n",
       "      <td>30.0</td>\n",
       "      <td>54000.0</td>\n",
       "      <td>No</td>\n",
       "    </tr>\n",
       "    <tr>\n",
       "      <th>3</th>\n",
       "      <td>Spain</td>\n",
       "      <td>38.0</td>\n",
       "      <td>61000.0</td>\n",
       "      <td>No</td>\n",
       "    </tr>\n",
       "    <tr>\n",
       "      <th>4</th>\n",
       "      <td>Germany</td>\n",
       "      <td>40.0</td>\n",
       "      <td>NaN</td>\n",
       "      <td>Yes</td>\n",
       "    </tr>\n",
       "  </tbody>\n",
       "</table>\n",
       "</div>"
      ],
      "text/plain": [
       "   Country   Age   Salary Purchased\n",
       "0   France  44.0  72000.0        No\n",
       "1    Spain  27.0  48000.0       Yes\n",
       "2  Germany  30.0  54000.0        No\n",
       "3    Spain  38.0  61000.0        No\n",
       "4  Germany  40.0      NaN       Yes"
      ]
     },
     "execution_count": 3,
     "metadata": {},
     "output_type": "execute_result"
    }
   ],
   "source": [
    "data.head()"
   ]
  },
  {
   "cell_type": "code",
   "execution_count": 4,
   "id": "f1f62b0e",
   "metadata": {},
   "outputs": [],
   "source": [
    "X = data.iloc[:, :-1].values\n",
    "Y = data.iloc[:, -1].values"
   ]
  },
  {
   "cell_type": "code",
   "execution_count": 5,
   "id": "2af45779",
   "metadata": {},
   "outputs": [
    {
     "data": {
      "text/plain": [
       "array([['France', 44.0, 72000.0],\n",
       "       ['Spain', 27.0, 48000.0],\n",
       "       ['Germany', 30.0, 54000.0],\n",
       "       ['Spain', 38.0, 61000.0],\n",
       "       ['Germany', 40.0, nan],\n",
       "       ['France', 35.0, 58000.0],\n",
       "       ['Spain', nan, 52000.0],\n",
       "       ['France', 48.0, 79000.0],\n",
       "       ['Germany', 50.0, 83000.0],\n",
       "       ['France', 37.0, 67000.0]], dtype=object)"
      ]
     },
     "execution_count": 5,
     "metadata": {},
     "output_type": "execute_result"
    }
   ],
   "source": [
    "X"
   ]
  },
  {
   "cell_type": "code",
   "execution_count": 6,
   "id": "9f7cc524",
   "metadata": {},
   "outputs": [
    {
     "data": {
      "text/plain": [
       "array(['No', 'Yes', 'No', 'No', 'Yes', 'Yes', 'No', 'Yes', 'No', 'Yes'],\n",
       "      dtype=object)"
      ]
     },
     "execution_count": 6,
     "metadata": {},
     "output_type": "execute_result"
    }
   ],
   "source": [
    "Y"
   ]
  },
  {
   "cell_type": "markdown",
   "id": "a25c1143",
   "metadata": {},
   "source": [
    "# Imputing The Missing Values Using InBuilt Libraries"
   ]
  },
  {
   "cell_type": "code",
   "execution_count": 7,
   "id": "3c3b8f46",
   "metadata": {},
   "outputs": [],
   "source": [
    "from sklearn.impute import SimpleImputer"
   ]
  },
  {
   "cell_type": "code",
   "execution_count": 8,
   "id": "ad66f7b5",
   "metadata": {},
   "outputs": [],
   "source": [
    "imputer = SimpleImputer(missing_values=np.nan, strategy=\"mean\")\n",
    "X[:, 1:3] = imputer.fit_transform(X[:, 1:3])"
   ]
  },
  {
   "cell_type": "code",
   "execution_count": 27,
   "id": "9f55bea8",
   "metadata": {},
   "outputs": [
    {
     "data": {
      "text/plain": [
       "array([['France', 44.0, 72000.0],\n",
       "       ['Spain', 27.0, 48000.0],\n",
       "       ['Germany', 30.0, 54000.0],\n",
       "       ['Spain', 38.0, 61000.0],\n",
       "       ['Germany', 40.0, 63777.77777777778],\n",
       "       ['France', 35.0, 58000.0],\n",
       "       ['Spain', 38.77777777777778, 52000.0],\n",
       "       ['France', 48.0, 79000.0],\n",
       "       ['Germany', 50.0, 83000.0],\n",
       "       ['France', 37.0, 67000.0]], dtype=object)"
      ]
     },
     "execution_count": 27,
     "metadata": {},
     "output_type": "execute_result"
    }
   ],
   "source": [
    "X"
   ]
  },
  {
   "cell_type": "markdown",
   "id": "02f14c57",
   "metadata": {},
   "source": [
    "# Imputing The Missing Values Using My Methods"
   ]
  },
  {
   "cell_type": "code",
   "execution_count": 28,
   "id": "59871bcb",
   "metadata": {},
   "outputs": [],
   "source": [
    "import numpy\n",
    "class MySimpleImputer():\n",
    "    def __init__(self):\n",
    "        pass\n",
    "    def fit(self, dataset):\n",
    "        self.no_of_cols = dataset.shape[1]\n",
    "        self.values = [0] * self.no_of_cols\n",
    "        \n",
    "        for col in range(self.no_of_cols):\n",
    "            sum_of_col = 0\n",
    "            count_of_col = 0\n",
    "            for row in dataset[:, col]:\n",
    "                if row != np.nan:\n",
    "                    sum_of_col += row\n",
    "                    count_of_col += 1\n",
    "            self.values[col] = sum_of_col/count_of_col\n",
    "            \n",
    "    def transform(self, dataset):\n",
    "        new_dataset = []\n",
    "        for col in range(self.no_of_cols):\n",
    "            new_row = []\n",
    "            for row in dataset[:, col]:\n",
    "                if row == np.nan:\n",
    "                    new_row.append(self.values[col])\n",
    "                else:\n",
    "                    new_row.append(row)\n",
    "            new_dataset.append(new_row)\n",
    "        return new_dataset\n",
    "    def fit_transform(self, dataset):\n",
    "        self.fit(dataset)\n",
    "        return self.transform(dataset)"
   ]
  },
  {
   "cell_type": "code",
   "execution_count": 29,
   "id": "4da39f24",
   "metadata": {},
   "outputs": [],
   "source": [
    "myimputer = MySimpleImputer()"
   ]
  },
  {
   "cell_type": "code",
   "execution_count": 30,
   "id": "d873f5ad",
   "metadata": {},
   "outputs": [],
   "source": [
    "myimputer.fit(X[:, 1:3])"
   ]
  },
  {
   "cell_type": "code",
   "execution_count": 32,
   "id": "de675fd1",
   "metadata": {},
   "outputs": [
    {
     "data": {
      "text/plain": [
       "[38.77777777777778, 63777.777777777774]"
      ]
     },
     "execution_count": 32,
     "metadata": {},
     "output_type": "execute_result"
    }
   ],
   "source": [
    "myimputer.values"
   ]
  },
  {
   "cell_type": "code",
   "execution_count": 33,
   "id": "69b6211c",
   "metadata": {},
   "outputs": [
    {
     "data": {
      "text/plain": [
       "2"
      ]
     },
     "execution_count": 33,
     "metadata": {},
     "output_type": "execute_result"
    }
   ],
   "source": [
    "myimputer.no_of_cols"
   ]
  },
  {
   "cell_type": "code",
   "execution_count": 34,
   "id": "da4d5bbd",
   "metadata": {},
   "outputs": [
    {
     "data": {
      "text/plain": [
       "[[44.0, 27.0, 30.0, 38.0, 40.0, 35.0, 38.77777777777778, 48.0, 50.0, 37.0],\n",
       " [72000.0,\n",
       "  48000.0,\n",
       "  54000.0,\n",
       "  61000.0,\n",
       "  63777.77777777778,\n",
       "  58000.0,\n",
       "  52000.0,\n",
       "  79000.0,\n",
       "  83000.0,\n",
       "  67000.0]]"
      ]
     },
     "execution_count": 34,
     "metadata": {},
     "output_type": "execute_result"
    }
   ],
   "source": [
    "myimputer.transform(X[:, 1:3])"
   ]
  },
  {
   "cell_type": "code",
   "execution_count": 35,
   "id": "0eb890a4",
   "metadata": {},
   "outputs": [
    {
     "data": {
      "text/plain": [
       "[[44.0, 27.0, 30.0, 38.0, 40.0, 35.0, 38.77777777777778, 48.0, 50.0, 37.0],\n",
       " [72000.0,\n",
       "  48000.0,\n",
       "  54000.0,\n",
       "  61000.0,\n",
       "  63777.77777777778,\n",
       "  58000.0,\n",
       "  52000.0,\n",
       "  79000.0,\n",
       "  83000.0,\n",
       "  67000.0]]"
      ]
     },
     "execution_count": 35,
     "metadata": {},
     "output_type": "execute_result"
    }
   ],
   "source": [
    "myimputer.fit_transform(X[:, 1:3])"
   ]
  }
 ],
 "metadata": {
  "kernelspec": {
   "display_name": "Python 3 (ipykernel)",
   "language": "python",
   "name": "python3"
  },
  "language_info": {
   "codemirror_mode": {
    "name": "ipython",
    "version": 3
   },
   "file_extension": ".py",
   "mimetype": "text/x-python",
   "name": "python",
   "nbconvert_exporter": "python",
   "pygments_lexer": "ipython3",
   "version": "3.10.9"
  }
 },
 "nbformat": 4,
 "nbformat_minor": 5
}
