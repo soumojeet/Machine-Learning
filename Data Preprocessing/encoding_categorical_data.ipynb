{
 "cells": [
  {
   "cell_type": "markdown",
   "id": "dc2d9cea",
   "metadata": {},
   "source": [
    "# Importing Libraries"
   ]
  },
  {
   "cell_type": "code",
   "execution_count": 209,
   "id": "b1df45b0",
   "metadata": {},
   "outputs": [],
   "source": [
    "import pandas as pd\n",
    "import numpy as np"
   ]
  },
  {
   "cell_type": "markdown",
   "id": "28049b96",
   "metadata": {},
   "source": [
    "# Fetching The Data"
   ]
  },
  {
   "cell_type": "code",
   "execution_count": 210,
   "id": "1fc7160e",
   "metadata": {},
   "outputs": [],
   "source": [
    "data = pd.read_csv(\"Data.csv\")"
   ]
  },
  {
   "cell_type": "code",
   "execution_count": 211,
   "id": "3e3ad630",
   "metadata": {},
   "outputs": [
    {
     "data": {
      "text/html": [
       "<div>\n",
       "<style scoped>\n",
       "    .dataframe tbody tr th:only-of-type {\n",
       "        vertical-align: middle;\n",
       "    }\n",
       "\n",
       "    .dataframe tbody tr th {\n",
       "        vertical-align: top;\n",
       "    }\n",
       "\n",
       "    .dataframe thead th {\n",
       "        text-align: right;\n",
       "    }\n",
       "</style>\n",
       "<table border=\"1\" class=\"dataframe\">\n",
       "  <thead>\n",
       "    <tr style=\"text-align: right;\">\n",
       "      <th></th>\n",
       "      <th>Country</th>\n",
       "      <th>Age</th>\n",
       "      <th>Salary</th>\n",
       "      <th>Purchased</th>\n",
       "    </tr>\n",
       "  </thead>\n",
       "  <tbody>\n",
       "    <tr>\n",
       "      <th>0</th>\n",
       "      <td>France</td>\n",
       "      <td>44.0</td>\n",
       "      <td>72000.0</td>\n",
       "      <td>No</td>\n",
       "    </tr>\n",
       "    <tr>\n",
       "      <th>1</th>\n",
       "      <td>Spain</td>\n",
       "      <td>27.0</td>\n",
       "      <td>48000.0</td>\n",
       "      <td>Yes</td>\n",
       "    </tr>\n",
       "    <tr>\n",
       "      <th>2</th>\n",
       "      <td>Germany</td>\n",
       "      <td>30.0</td>\n",
       "      <td>54000.0</td>\n",
       "      <td>No</td>\n",
       "    </tr>\n",
       "    <tr>\n",
       "      <th>3</th>\n",
       "      <td>Spain</td>\n",
       "      <td>38.0</td>\n",
       "      <td>61000.0</td>\n",
       "      <td>No</td>\n",
       "    </tr>\n",
       "    <tr>\n",
       "      <th>4</th>\n",
       "      <td>Germany</td>\n",
       "      <td>40.0</td>\n",
       "      <td>NaN</td>\n",
       "      <td>Yes</td>\n",
       "    </tr>\n",
       "  </tbody>\n",
       "</table>\n",
       "</div>"
      ],
      "text/plain": [
       "   Country   Age   Salary Purchased\n",
       "0   France  44.0  72000.0        No\n",
       "1    Spain  27.0  48000.0       Yes\n",
       "2  Germany  30.0  54000.0        No\n",
       "3    Spain  38.0  61000.0        No\n",
       "4  Germany  40.0      NaN       Yes"
      ]
     },
     "execution_count": 211,
     "metadata": {},
     "output_type": "execute_result"
    }
   ],
   "source": [
    "data.head()"
   ]
  },
  {
   "cell_type": "code",
   "execution_count": 212,
   "id": "5ae3e988",
   "metadata": {},
   "outputs": [],
   "source": [
    "X = data.iloc[:, :-1].values\n",
    "Y = data.iloc[:, -1].values"
   ]
  },
  {
   "cell_type": "code",
   "execution_count": 213,
   "id": "06e6a146",
   "metadata": {},
   "outputs": [
    {
     "data": {
      "text/plain": [
       "array([['France', 44.0, 72000.0],\n",
       "       ['Spain', 27.0, 48000.0],\n",
       "       ['Germany', 30.0, 54000.0],\n",
       "       ['Spain', 38.0, 61000.0],\n",
       "       ['Germany', 40.0, nan],\n",
       "       ['France', 35.0, 58000.0],\n",
       "       ['Spain', nan, 52000.0],\n",
       "       ['France', 48.0, 79000.0],\n",
       "       ['Germany', 50.0, 83000.0],\n",
       "       ['France', 37.0, 67000.0]], dtype=object)"
      ]
     },
     "execution_count": 213,
     "metadata": {},
     "output_type": "execute_result"
    }
   ],
   "source": [
    "X"
   ]
  },
  {
   "cell_type": "code",
   "execution_count": 214,
   "id": "2d7be6a9",
   "metadata": {},
   "outputs": [
    {
     "data": {
      "text/plain": [
       "array(['No', 'Yes', 'No', 'No', 'Yes', 'Yes', 'No', 'Yes', 'No', 'Yes'],\n",
       "      dtype=object)"
      ]
     },
     "execution_count": 214,
     "metadata": {},
     "output_type": "execute_result"
    }
   ],
   "source": [
    "Y"
   ]
  },
  {
   "cell_type": "markdown",
   "id": "322f8744",
   "metadata": {},
   "source": [
    "# Encoding categorical data"
   ]
  },
  {
   "cell_type": "markdown",
   "id": "8be1a054",
   "metadata": {},
   "source": [
    "### Encoding the Dependent Variable Using InBuilt Libraries"
   ]
  },
  {
   "cell_type": "code",
   "execution_count": 114,
   "id": "126ccd50",
   "metadata": {},
   "outputs": [],
   "source": [
    "from sklearn.preprocessing import LabelEncoder"
   ]
  },
  {
   "cell_type": "code",
   "execution_count": 115,
   "id": "6b0f7e95",
   "metadata": {},
   "outputs": [
    {
     "data": {
      "text/plain": [
       "array([0, 1, 0, 0, 1, 1, 0, 1, 0, 1])"
      ]
     },
     "execution_count": 115,
     "metadata": {},
     "output_type": "execute_result"
    }
   ],
   "source": [
    "le = LabelEncoder()\n",
    "le.fit(Y)\n",
    "le.transform(Y)"
   ]
  },
  {
   "cell_type": "markdown",
   "id": "9e6d224a",
   "metadata": {},
   "source": [
    "### Encoding the Dependent Variable Using My Methods"
   ]
  },
  {
   "cell_type": "code",
   "execution_count": 129,
   "id": "1f2f2553",
   "metadata": {},
   "outputs": [],
   "source": [
    "class MyLabelEncoder():\n",
    "    def __init__(self):\n",
    "        pass\n",
    "    def fit(self, data):\n",
    "        self.unique = list(set(map(str.lower, data)))\n",
    "        self.unique.sort()\n",
    "    def transform(self, data):\n",
    "        new_data = []\n",
    "        for item in data:\n",
    "            new_data.append(self.unique.index(item.lower()))\n",
    "        return new_data\n",
    "    def fit_transform(self, data):\n",
    "        self.fit(data)\n",
    "        return self.transform(data)"
   ]
  },
  {
   "cell_type": "code",
   "execution_count": 130,
   "id": "d1e67823",
   "metadata": {},
   "outputs": [],
   "source": [
    "myle = MyLabelEncoder()"
   ]
  },
  {
   "cell_type": "code",
   "execution_count": 131,
   "id": "d6624a1f",
   "metadata": {},
   "outputs": [],
   "source": [
    "myle.fit(Y)"
   ]
  },
  {
   "cell_type": "code",
   "execution_count": 132,
   "id": "649416c8",
   "metadata": {},
   "outputs": [
    {
     "data": {
      "text/plain": [
       "[0, 1, 0, 0, 1, 1, 0, 1, 0, 1]"
      ]
     },
     "execution_count": 132,
     "metadata": {},
     "output_type": "execute_result"
    }
   ],
   "source": [
    "myle.transform(Y)"
   ]
  },
  {
   "cell_type": "code",
   "execution_count": 133,
   "id": "8af7c967",
   "metadata": {},
   "outputs": [
    {
     "data": {
      "text/plain": [
       "[0, 1, 0, 0, 1, 1, 0, 1, 0, 1]"
      ]
     },
     "execution_count": 133,
     "metadata": {},
     "output_type": "execute_result"
    }
   ],
   "source": [
    "myle.fit_transform(Y)"
   ]
  },
  {
   "cell_type": "markdown",
   "id": "33c480b6",
   "metadata": {},
   "source": [
    "### Encoding the InDependent Variable Using InBuilt Libraries"
   ]
  },
  {
   "cell_type": "code",
   "execution_count": 135,
   "id": "ddb52aeb",
   "metadata": {},
   "outputs": [],
   "source": [
    "from sklearn.compose import ColumnTransformer\n",
    "from sklearn.preprocessing import OneHotEncoder"
   ]
  },
  {
   "cell_type": "code",
   "execution_count": 143,
   "id": "ea7324b2",
   "metadata": {},
   "outputs": [
    {
     "data": {
      "text/plain": [
       "array([[1.0, 0.0, 0.0, 44.0, 72000.0],\n",
       "       [0.0, 0.0, 1.0, 27.0, 48000.0],\n",
       "       [0.0, 1.0, 0.0, 30.0, 54000.0],\n",
       "       [0.0, 0.0, 1.0, 38.0, 61000.0],\n",
       "       [0.0, 1.0, 0.0, 40.0, nan],\n",
       "       [1.0, 0.0, 0.0, 35.0, 58000.0],\n",
       "       [0.0, 0.0, 1.0, nan, 52000.0],\n",
       "       [1.0, 0.0, 0.0, 48.0, 79000.0],\n",
       "       [0.0, 1.0, 0.0, 50.0, 83000.0],\n",
       "       [1.0, 0.0, 0.0, 37.0, 67000.0]], dtype=object)"
      ]
     },
     "execution_count": 143,
     "metadata": {},
     "output_type": "execute_result"
    }
   ],
   "source": [
    "ct = ColumnTransformer(transformers=[('encoder', OneHotEncoder(), [0])], remainder=\"passthrough\")\n",
    "ct.fit(X)\n",
    "ct.transform(X) "
   ]
  },
  {
   "cell_type": "markdown",
   "id": "7df0d35a",
   "metadata": {},
   "source": [
    "### Encoding the InDependent Variable Using My Methods"
   ]
  },
  {
   "cell_type": "code",
   "execution_count": 268,
   "id": "3389d2d3",
   "metadata": {},
   "outputs": [],
   "source": [
    "class MyOneHotEncoder():\n",
    "    def __init__(self):\n",
    "        pass\n",
    "    def fit(self, data, column):\n",
    "        self.unique_cols = [0] * len(data)\n",
    "        for col in column:\n",
    "            self.unique_cols[col] = list(set(map(str.lower, data[:, column[col]])))\n",
    "            self.unique_cols[col].sort()\n",
    "    def transform(self, data, column):\n",
    "        dataset = []\n",
    "        for row in data:\n",
    "            row_dataset = []\n",
    "            for col in column:\n",
    "                for val in self.unique_cols[col]:\n",
    "                    if row[col].lower() == val:\n",
    "                        row_dataset.append(1.0)\n",
    "                    else:\n",
    "                        row_dataset.append(0.0)\n",
    "                for each in range(len(row)):\n",
    "                    if col != each:\n",
    "                        row_dataset.append(row[each])\n",
    "                dataset.append(row_dataset)\n",
    "        return dataset"
   ]
  },
  {
   "cell_type": "code",
   "execution_count": 269,
   "id": "9f843e68",
   "metadata": {},
   "outputs": [],
   "source": [
    "myohe = MyOneHotEncoder()"
   ]
  },
  {
   "cell_type": "code",
   "execution_count": 270,
   "id": "036034f3",
   "metadata": {},
   "outputs": [],
   "source": [
    "myohe.fit(X, [0])"
   ]
  },
  {
   "cell_type": "code",
   "execution_count": 271,
   "id": "a277b83d",
   "metadata": {},
   "outputs": [
    {
     "data": {
      "text/plain": [
       "[[1.0, 0.0, 0.0, 44.0, 72000.0],\n",
       " [0.0, 0.0, 1.0, 27.0, 48000.0],\n",
       " [0.0, 1.0, 0.0, 30.0, 54000.0],\n",
       " [0.0, 0.0, 1.0, 38.0, 61000.0],\n",
       " [0.0, 1.0, 0.0, 40.0, nan],\n",
       " [1.0, 0.0, 0.0, 35.0, 58000.0],\n",
       " [0.0, 0.0, 1.0, nan, 52000.0],\n",
       " [1.0, 0.0, 0.0, 48.0, 79000.0],\n",
       " [0.0, 1.0, 0.0, 50.0, 83000.0],\n",
       " [1.0, 0.0, 0.0, 37.0, 67000.0]]"
      ]
     },
     "execution_count": 271,
     "metadata": {},
     "output_type": "execute_result"
    }
   ],
   "source": [
    "myohe.transform(A, [0])"
   ]
  }
 ],
 "metadata": {
  "kernelspec": {
   "display_name": "Python 3 (ipykernel)",
   "language": "python",
   "name": "python3"
  },
  "language_info": {
   "codemirror_mode": {
    "name": "ipython",
    "version": 3
   },
   "file_extension": ".py",
   "mimetype": "text/x-python",
   "name": "python",
   "nbconvert_exporter": "python",
   "pygments_lexer": "ipython3",
   "version": "3.10.9"
  }
 },
 "nbformat": 4,
 "nbformat_minor": 5
}
