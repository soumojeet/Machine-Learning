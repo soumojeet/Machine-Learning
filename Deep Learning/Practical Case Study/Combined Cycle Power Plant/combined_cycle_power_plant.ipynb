{
 "cells": [
  {
   "cell_type": "markdown",
   "metadata": {
    "colab_type": "text",
    "id": "3cbb7fRy-eyr"
   },
   "source": [
    "# Artificial Neural Network"
   ]
  },
  {
   "cell_type": "markdown",
   "metadata": {
    "colab_type": "text",
    "id": "8sNDnxE2-pwE"
   },
   "source": [
    "### Importing the libraries"
   ]
  },
  {
   "cell_type": "code",
   "execution_count": 1,
   "metadata": {
    "colab": {},
    "colab_type": "code",
    "id": "lxChR1Rk-umf"
   },
   "outputs": [],
   "source": [
    "import numpy as np\n",
    "import pandas as pd\n",
    "import tensorflow as tf"
   ]
  },
  {
   "cell_type": "code",
   "execution_count": 2,
   "metadata": {
    "colab": {
     "base_uri": "https://localhost:8080/",
     "height": 34
    },
    "colab_type": "code",
    "id": "uBTqR3nacj0e",
    "outputId": "4c0bd183-e424-429a-9fba-ceb841c06888"
   },
   "outputs": [
    {
     "data": {
      "text/plain": [
       "'2.12.0'"
      ]
     },
     "execution_count": 2,
     "metadata": {},
     "output_type": "execute_result"
    }
   ],
   "source": [
    "tf.__version__"
   ]
  },
  {
   "cell_type": "markdown",
   "metadata": {
    "colab_type": "text",
    "id": "AG3FQEch-yuA"
   },
   "source": [
    "## Part 1 - Data Preprocessing"
   ]
  },
  {
   "cell_type": "markdown",
   "metadata": {
    "colab_type": "text",
    "id": "-4zq8Mza_D9O"
   },
   "source": [
    "### Importing the dataset"
   ]
  },
  {
   "cell_type": "code",
   "execution_count": 3,
   "metadata": {
    "colab": {},
    "colab_type": "code",
    "id": "B9CV13Co_HHM"
   },
   "outputs": [],
   "source": [
    "dataset = pd.read_excel('Folds5x2_pp.xlsx')\n",
    "X = dataset.iloc[:, :-1].values\n",
    "Y = dataset.iloc[:, -1].values"
   ]
  },
  {
   "cell_type": "markdown",
   "metadata": {
    "colab_type": "text",
    "id": "VC6omXel_Up0"
   },
   "source": [
    "### Splitting the dataset into the Training set and Test set"
   ]
  },
  {
   "cell_type": "code",
   "execution_count": 4,
   "metadata": {
    "colab": {},
    "colab_type": "code",
    "id": "L5edeb2r_agx"
   },
   "outputs": [],
   "source": [
    "from sklearn.model_selection import train_test_split\n",
    "X_train, X_test, Y_train, Y_test = train_test_split(X, Y, test_size = 0.2, random_state = 0)"
   ]
  },
  {
   "cell_type": "markdown",
   "metadata": {
    "colab_type": "text",
    "id": "_mSLlAT9_eyI"
   },
   "source": [
    "## Part 2 - Building the ANN"
   ]
  },
  {
   "cell_type": "markdown",
   "metadata": {
    "colab_type": "text",
    "id": "CsBULd_f_wLY"
   },
   "source": [
    "### Initializing the ANN"
   ]
  },
  {
   "cell_type": "code",
   "execution_count": 5,
   "metadata": {
    "colab": {},
    "colab_type": "code",
    "id": "J6Hd97Ls__Nz"
   },
   "outputs": [],
   "source": [
    "ann = tf.keras.models.Sequential()"
   ]
  },
  {
   "cell_type": "markdown",
   "metadata": {
    "colab_type": "text",
    "id": "iitAFJS_ABUn"
   },
   "source": [
    "### Adding the input layer and the first hidden layer"
   ]
  },
  {
   "cell_type": "code",
   "execution_count": 6,
   "metadata": {
    "colab": {},
    "colab_type": "code",
    "id": "ksO_Vv40AHix"
   },
   "outputs": [],
   "source": [
    "ann.add(tf.keras.layers.Dense(units=6, activation='relu'))"
   ]
  },
  {
   "cell_type": "markdown",
   "metadata": {
    "colab_type": "text",
    "id": "-lb4kK_wAKbs"
   },
   "source": [
    "### Adding the second hidden layer"
   ]
  },
  {
   "cell_type": "code",
   "execution_count": 7,
   "metadata": {
    "colab": {},
    "colab_type": "code",
    "id": "c2357OqEAQOQ"
   },
   "outputs": [],
   "source": [
    "ann.add(tf.keras.layers.Dense(units=6, activation='relu'))"
   ]
  },
  {
   "cell_type": "markdown",
   "metadata": {
    "colab_type": "text",
    "id": "jwMOmKb3AdBY"
   },
   "source": [
    "### Adding the output layer"
   ]
  },
  {
   "cell_type": "code",
   "execution_count": 8,
   "metadata": {
    "colab": {},
    "colab_type": "code",
    "id": "YFATpzsUAkLL"
   },
   "outputs": [],
   "source": [
    "ann.add(tf.keras.layers.Dense(units=1))"
   ]
  },
  {
   "cell_type": "markdown",
   "metadata": {
    "colab_type": "text",
    "id": "fq7e4fF6A1yy"
   },
   "source": [
    "## Part 3 - Training the ANN"
   ]
  },
  {
   "cell_type": "markdown",
   "metadata": {
    "colab_type": "text",
    "id": "qDeylAs2An25"
   },
   "source": [
    "### Compiling the ANN"
   ]
  },
  {
   "cell_type": "code",
   "execution_count": 9,
   "metadata": {
    "colab": {},
    "colab_type": "code",
    "id": "pesgbWlCAtB4"
   },
   "outputs": [],
   "source": [
    "ann.compile(optimizer = 'adam', loss = 'mean_squared_error')"
   ]
  },
  {
   "cell_type": "markdown",
   "metadata": {
    "colab_type": "text",
    "id": "YjVuiybYOo7r"
   },
   "source": [
    "### Training the ANN model on the Training set"
   ]
  },
  {
   "cell_type": "code",
   "execution_count": 10,
   "metadata": {
    "colab": {
     "base_uri": "https://localhost:8080/",
     "height": 1000
    },
    "colab_type": "code",
    "id": "c_vV-tiiA5zn",
    "outputId": "4a2b6ee6-ed75-4698-9069-b250e613803f"
   },
   "outputs": [
    {
     "name": "stdout",
     "output_type": "stream",
     "text": [
      "Epoch 1/100\n",
      "240/240 [==============================] - 2s 2ms/step - loss: 407.1785\n",
      "Epoch 2/100\n",
      "240/240 [==============================] - 0s 1ms/step - loss: 178.0164\n",
      "Epoch 3/100\n",
      "240/240 [==============================] - 0s 1ms/step - loss: 110.0460\n",
      "Epoch 4/100\n",
      "240/240 [==============================] - 0s 1ms/step - loss: 67.3841\n",
      "Epoch 5/100\n",
      "240/240 [==============================] - 0s 1ms/step - loss: 45.2781\n",
      "Epoch 6/100\n",
      "240/240 [==============================] - 0s 2ms/step - loss: 36.1297\n",
      "Epoch 7/100\n",
      "240/240 [==============================] - 0s 1ms/step - loss: 32.5868\n",
      "Epoch 8/100\n",
      "240/240 [==============================] - 0s 1ms/step - loss: 30.9751\n",
      "Epoch 9/100\n",
      "240/240 [==============================] - 0s 1ms/step - loss: 30.4078\n",
      "Epoch 10/100\n",
      "240/240 [==============================] - 0s 1ms/step - loss: 30.7394\n",
      "Epoch 11/100\n",
      "240/240 [==============================] - 1s 2ms/step - loss: 30.0442\n",
      "Epoch 12/100\n",
      "240/240 [==============================] - 1s 3ms/step - loss: 29.2528\n",
      "Epoch 13/100\n",
      "240/240 [==============================] - 1s 3ms/step - loss: 30.0379\n",
      "Epoch 14/100\n",
      "240/240 [==============================] - 0s 2ms/step - loss: 29.9355\n",
      "Epoch 15/100\n",
      "240/240 [==============================] - 0s 1ms/step - loss: 28.6763\n",
      "Epoch 16/100\n",
      "240/240 [==============================] - 0s 1ms/step - loss: 28.6101\n",
      "Epoch 17/100\n",
      "240/240 [==============================] - 0s 1ms/step - loss: 28.3960\n",
      "Epoch 18/100\n",
      "240/240 [==============================] - 0s 1ms/step - loss: 29.2937\n",
      "Epoch 19/100\n",
      "240/240 [==============================] - 0s 1ms/step - loss: 28.5254\n",
      "Epoch 20/100\n",
      "240/240 [==============================] - 0s 1ms/step - loss: 28.6343\n",
      "Epoch 21/100\n",
      "240/240 [==============================] - 0s 1ms/step - loss: 27.6531\n",
      "Epoch 22/100\n",
      "240/240 [==============================] - 0s 2ms/step - loss: 27.7590\n",
      "Epoch 23/100\n",
      "240/240 [==============================] - 1s 3ms/step - loss: 27.3832\n",
      "Epoch 24/100\n",
      "240/240 [==============================] - 1s 3ms/step - loss: 27.2242\n",
      "Epoch 25/100\n",
      "240/240 [==============================] - 1s 3ms/step - loss: 27.8587\n",
      "Epoch 26/100\n",
      "240/240 [==============================] - 1s 3ms/step - loss: 27.2439\n",
      "Epoch 27/100\n",
      "240/240 [==============================] - 0s 2ms/step - loss: 28.0602\n",
      "Epoch 28/100\n",
      "240/240 [==============================] - 0s 1ms/step - loss: 27.4884\n",
      "Epoch 29/100\n",
      "240/240 [==============================] - 0s 2ms/step - loss: 28.0891\n",
      "Epoch 30/100\n",
      "240/240 [==============================] - 0s 2ms/step - loss: 27.2120\n",
      "Epoch 31/100\n",
      "240/240 [==============================] - 0s 1ms/step - loss: 27.4031\n",
      "Epoch 32/100\n",
      "240/240 [==============================] - 1s 2ms/step - loss: 26.9596\n",
      "Epoch 33/100\n",
      "240/240 [==============================] - 1s 3ms/step - loss: 27.5036\n",
      "Epoch 34/100\n",
      "240/240 [==============================] - 1s 3ms/step - loss: 27.3320\n",
      "Epoch 35/100\n",
      "240/240 [==============================] - 1s 3ms/step - loss: 27.1052\n",
      "Epoch 36/100\n",
      "240/240 [==============================] - 1s 2ms/step - loss: 27.4688\n",
      "Epoch 37/100\n",
      "240/240 [==============================] - 0s 1ms/step - loss: 27.2021\n",
      "Epoch 38/100\n",
      "240/240 [==============================] - 0s 1ms/step - loss: 27.3453\n",
      "Epoch 39/100\n",
      "240/240 [==============================] - 0s 2ms/step - loss: 27.4579\n",
      "Epoch 40/100\n",
      "240/240 [==============================] - 0s 1ms/step - loss: 27.5273\n",
      "Epoch 41/100\n",
      "240/240 [==============================] - 0s 2ms/step - loss: 27.6443\n",
      "Epoch 42/100\n",
      "240/240 [==============================] - 1s 3ms/step - loss: 27.1860\n",
      "Epoch 43/100\n",
      "240/240 [==============================] - 1s 3ms/step - loss: 28.3119\n",
      "Epoch 44/100\n",
      "240/240 [==============================] - 1s 3ms/step - loss: 27.3173\n",
      "Epoch 45/100\n",
      "240/240 [==============================] - 1s 3ms/step - loss: 27.3607\n",
      "Epoch 46/100\n",
      "240/240 [==============================] - 1s 3ms/step - loss: 28.0543\n",
      "Epoch 47/100\n",
      "240/240 [==============================] - 1s 3ms/step - loss: 27.8011\n",
      "Epoch 48/100\n",
      "240/240 [==============================] - 1s 3ms/step - loss: 27.6352\n",
      "Epoch 49/100\n",
      "240/240 [==============================] - 0s 1ms/step - loss: 26.5623\n",
      "Epoch 50/100\n",
      "240/240 [==============================] - 0s 1ms/step - loss: 26.8754\n",
      "Epoch 51/100\n",
      "240/240 [==============================] - 0s 1ms/step - loss: 27.1433\n",
      "Epoch 52/100\n",
      "240/240 [==============================] - 0s 2ms/step - loss: 26.7582\n",
      "Epoch 53/100\n",
      "240/240 [==============================] - 0s 2ms/step - loss: 28.0541\n",
      "Epoch 54/100\n",
      "240/240 [==============================] - 1s 2ms/step - loss: 27.3478\n",
      "Epoch 55/100\n",
      "240/240 [==============================] - 1s 3ms/step - loss: 27.4155\n",
      "Epoch 56/100\n",
      "240/240 [==============================] - 1s 3ms/step - loss: 27.1192\n",
      "Epoch 57/100\n",
      "240/240 [==============================] - 1s 3ms/step - loss: 27.4013\n",
      "Epoch 58/100\n",
      "240/240 [==============================] - 1s 3ms/step - loss: 27.1847\n",
      "Epoch 59/100\n",
      "240/240 [==============================] - 1s 3ms/step - loss: 27.5528\n",
      "Epoch 60/100\n",
      "240/240 [==============================] - 1s 3ms/step - loss: 28.1750\n",
      "Epoch 61/100\n",
      "240/240 [==============================] - 1s 3ms/step - loss: 27.6537\n",
      "Epoch 62/100\n",
      "240/240 [==============================] - 1s 3ms/step - loss: 27.2322\n",
      "Epoch 63/100\n",
      "240/240 [==============================] - 1s 3ms/step - loss: 27.0768\n",
      "Epoch 64/100\n",
      "240/240 [==============================] - 1s 3ms/step - loss: 27.6701\n",
      "Epoch 65/100\n",
      "240/240 [==============================] - 0s 2ms/step - loss: 27.0304\n",
      "Epoch 66/100\n",
      "240/240 [==============================] - 0s 2ms/step - loss: 27.2867\n",
      "Epoch 67/100\n",
      "240/240 [==============================] - 0s 2ms/step - loss: 27.1030\n",
      "Epoch 68/100\n",
      "240/240 [==============================] - 0s 2ms/step - loss: 26.9836\n",
      "Epoch 69/100\n",
      "240/240 [==============================] - 0s 1ms/step - loss: 28.5787\n",
      "Epoch 70/100\n",
      "240/240 [==============================] - 1s 3ms/step - loss: 27.1601\n",
      "Epoch 71/100\n",
      "240/240 [==============================] - 1s 3ms/step - loss: 27.5965\n",
      "Epoch 72/100\n",
      "240/240 [==============================] - 1s 3ms/step - loss: 27.3762\n",
      "Epoch 73/100\n",
      "240/240 [==============================] - 1s 3ms/step - loss: 27.0467\n",
      "Epoch 74/100\n",
      "240/240 [==============================] - 1s 3ms/step - loss: 28.1472\n",
      "Epoch 75/100\n",
      "240/240 [==============================] - 1s 3ms/step - loss: 27.5187\n",
      "Epoch 76/100\n",
      "240/240 [==============================] - 1s 3ms/step - loss: 27.8073\n",
      "Epoch 77/100\n",
      "240/240 [==============================] - 1s 3ms/step - loss: 27.1355\n",
      "Epoch 78/100\n",
      "240/240 [==============================] - 1s 3ms/step - loss: 27.4200\n",
      "Epoch 79/100\n",
      "240/240 [==============================] - 1s 3ms/step - loss: 27.6367\n",
      "Epoch 80/100\n",
      "240/240 [==============================] - 1s 3ms/step - loss: 26.7098\n",
      "Epoch 81/100\n",
      "240/240 [==============================] - 1s 3ms/step - loss: 26.6674\n",
      "Epoch 82/100\n",
      "240/240 [==============================] - 0s 2ms/step - loss: 27.8534\n",
      "Epoch 83/100\n",
      "240/240 [==============================] - 0s 1ms/step - loss: 27.2639\n",
      "Epoch 84/100\n",
      "240/240 [==============================] - 0s 1ms/step - loss: 27.1908\n",
      "Epoch 85/100\n",
      "240/240 [==============================] - 0s 1ms/step - loss: 27.5219\n",
      "Epoch 86/100\n",
      "240/240 [==============================] - 0s 1ms/step - loss: 26.6539\n",
      "Epoch 87/100\n",
      "240/240 [==============================] - 0s 2ms/step - loss: 26.3306\n",
      "Epoch 88/100\n",
      "240/240 [==============================] - 1s 3ms/step - loss: 27.1975\n",
      "Epoch 89/100\n",
      "240/240 [==============================] - 1s 3ms/step - loss: 26.5514\n",
      "Epoch 90/100\n",
      "240/240 [==============================] - 1s 3ms/step - loss: 26.2722\n",
      "Epoch 91/100\n",
      "240/240 [==============================] - 1s 3ms/step - loss: 26.1460\n",
      "Epoch 92/100\n",
      "240/240 [==============================] - 1s 3ms/step - loss: 26.7877\n",
      "Epoch 93/100\n",
      "240/240 [==============================] - 1s 3ms/step - loss: 26.5081\n",
      "Epoch 94/100\n",
      "240/240 [==============================] - 1s 3ms/step - loss: 27.4631\n",
      "Epoch 95/100\n",
      "240/240 [==============================] - 1s 4ms/step - loss: 26.0572\n",
      "Epoch 96/100\n",
      "240/240 [==============================] - 1s 3ms/step - loss: 27.4672\n",
      "Epoch 97/100\n",
      "240/240 [==============================] - 1s 3ms/step - loss: 26.3825\n",
      "Epoch 98/100\n"
     ]
    },
    {
     "name": "stdout",
     "output_type": "stream",
     "text": [
      "240/240 [==============================] - 1s 3ms/step - loss: 26.0062\n",
      "Epoch 99/100\n",
      "240/240 [==============================] - 1s 3ms/step - loss: 25.7269\n",
      "Epoch 100/100\n",
      "240/240 [==============================] - 1s 3ms/step - loss: 26.1716\n"
     ]
    },
    {
     "data": {
      "text/plain": [
       "<keras.callbacks.History at 0x1a51bcc73d0>"
      ]
     },
     "execution_count": 10,
     "metadata": {},
     "output_type": "execute_result"
    }
   ],
   "source": [
    "ann.fit(X_train, Y_train, batch_size = 32, epochs = 100)"
   ]
  },
  {
   "cell_type": "markdown",
   "metadata": {
    "colab_type": "text",
    "id": "0H0zKKNEBLD5"
   },
   "source": [
    "### Predicting the results of the Test set"
   ]
  },
  {
   "cell_type": "code",
   "execution_count": 11,
   "metadata": {
    "colab": {
     "base_uri": "https://localhost:8080/",
     "height": 134
    },
    "colab_type": "code",
    "id": "IA0yApEmBG1X",
    "outputId": "cb981e1f-9204-4a2a-fece-9d66a6919189"
   },
   "outputs": [
    {
     "name": "stdout",
     "output_type": "stream",
     "text": [
      "60/60 [==============================] - 0s 2ms/step\n",
      "[[429.93 431.23]\n",
      " [460.42 460.01]\n",
      " [465.63 461.14]\n",
      " ...\n",
      " [471.83 473.26]\n",
      " [437.32 438.  ]\n",
      " [456.63 463.28]]\n"
     ]
    }
   ],
   "source": [
    "Y_pred = ann.predict(X_test)\n",
    "np.set_printoptions(precision=2)\n",
    "print(np.concatenate((Y_pred.reshape(len(Y_pred),1), Y_test.reshape(len(Y_test),1)),1))"
   ]
  }
 ],
 "metadata": {
  "colab": {
   "collapsed_sections": [],
   "name": "Artificial Neural Network",
   "provenance": [],
   "toc_visible": true
  },
  "kernelspec": {
   "display_name": "Python 3 (ipykernel)",
   "language": "python",
   "name": "python3"
  },
  "language_info": {
   "codemirror_mode": {
    "name": "ipython",
    "version": 3
   },
   "file_extension": ".py",
   "mimetype": "text/x-python",
   "name": "python",
   "nbconvert_exporter": "python",
   "pygments_lexer": "ipython3",
   "version": "3.10.9"
  }
 },
 "nbformat": 4,
 "nbformat_minor": 1
}
